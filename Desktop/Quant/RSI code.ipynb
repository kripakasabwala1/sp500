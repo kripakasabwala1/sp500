{
 "cells": [
  {
   "cell_type": "code",
   "execution_count": 1,
   "id": "ae300e46-5fd1-4b57-a6ad-266858956b17",
   "metadata": {},
   "outputs": [
    {
     "ename": "TypeError",
     "evalue": "list indices must be integers or slices, not str",
     "output_type": "error",
     "traceback": [
      "\u001b[0;31m---------------------------------------------------------------------------\u001b[0m",
      "\u001b[0;31mTypeError\u001b[0m                                 Traceback (most recent call last)",
      "Cell \u001b[0;32mIn[1], line 23\u001b[0m\n\u001b[1;32m     19\u001b[0m    \u001b[38;5;28;01mreturn\u001b[39;00m my_time_series\n\u001b[1;32m     21\u001b[0m values_array \u001b[38;5;241m=\u001b[39m [\u001b[38;5;241m2\u001b[39m, \u001b[38;5;241m3\u001b[39m, \u001b[38;5;241m7\u001b[39m, \u001b[38;5;241m6\u001b[39m, \u001b[38;5;241m4\u001b[39m, \u001b[38;5;241m8\u001b[39m]\n\u001b[0;32m---> 23\u001b[0m values_array_with_rsi \u001b[38;5;241m=\u001b[39m rsi(values_array, column\u001b[38;5;241m=\u001b[39m\u001b[38;5;124m'\u001b[39m\u001b[38;5;124mPrice\u001b[39m\u001b[38;5;124m'\u001b[39m, period\u001b[38;5;241m=\u001b[39m\u001b[38;5;241m14\u001b[39m)\n\u001b[1;32m     24\u001b[0m \u001b[38;5;28mprint\u001b[39m(values_array_with_rsi)\n",
      "Cell \u001b[0;32mIn[1], line 3\u001b[0m, in \u001b[0;36mrsi\u001b[0;34m(my_time_series, column, period)\u001b[0m\n\u001b[1;32m      1\u001b[0m \u001b[38;5;28;01mdef\u001b[39;00m \u001b[38;5;21mrsi\u001b[39m(my_time_series, column, period \u001b[38;5;241m=\u001b[39m \u001b[38;5;241m14\u001b[39m):\n\u001b[1;32m      2\u001b[0m    \u001b[38;5;66;03m# calculating the difference between the close prices at each time step\u001b[39;00m\n\u001b[0;32m----> 3\u001b[0m    delta \u001b[38;5;241m=\u001b[39m my_time_series[column]\u001b[38;5;241m.\u001b[39mdiff(\u001b[38;5;241m1\u001b[39m)\n\u001b[1;32m      4\u001b[0m    \u001b[38;5;66;03m# isolating the positive differences and the absolute negative differences\u001b[39;00m\n\u001b[1;32m      5\u001b[0m    gain \u001b[38;5;241m=\u001b[39m delta\u001b[38;5;241m.\u001b[39mwhere(delta \u001b[38;5;241m>\u001b[39m \u001b[38;5;241m0\u001b[39m, \u001b[38;5;241m0\u001b[39m)\n",
      "\u001b[0;31mTypeError\u001b[0m: list indices must be integers or slices, not str"
     ]
    }
   ],
   "source": [
    "def rsi(my_time_series, column, period = 14):\n",
    "   # calculating the difference between the close prices at each time step\n",
    "   delta = my_time_series[column].diff(1)\n",
    "   # isolating the positive differences and the absolute negative differences\n",
    "   gain = delta.where(delta > 0, 0)\n",
    "   loss = -delta.where(delta < 0, 0)\n",
    "   # transforming the exponential moving average to a smoothed moving average\n",
    "   period = (period * 2) - 1\n",
    "   # calculating a rolling smoothed moving average on the gain and loss variables\n",
    "   avg_gain = gain.ewm(span = period, min_periods = 1, adjust = False).mean()\n",
    "   avg_loss = loss.ewm(span = period, min_periods = 1, adjust = False).mean()\n",
    "   # calculating the relative strength\n",
    "   rs = avg_gain / avg_loss \n",
    "   # calculating the relative strength index\n",
    "   rsi = 100 - (100 / (1 + rs))\n",
    "   # creating a column in the data frame and populating it with the RSI\n",
    "   my_time_series['RSI'] = rsi\n",
    "   my_time_series = my_time_series.iloc[period:]  \n",
    "   return my_time_series\n",
    "\n",
    "values_array = [2, 3, 7, 6, 4, 8]\n",
    "   \n",
    "values_array_with_rsi = rsi(values_array, column='Price', period=14)\n",
    "print(values_array_with_rsi)"
   ]
  },
  {
   "cell_type": "code",
   "execution_count": null,
   "id": "b4ae4b8e-7866-4513-ba6c-6d86b89e2dc3",
   "metadata": {},
   "outputs": [],
   "source": []
  }
 ],
 "metadata": {
  "kernelspec": {
   "display_name": "Python 3 (ipykernel)",
   "language": "python",
   "name": "python3"
  },
  "language_info": {
   "codemirror_mode": {
    "name": "ipython",
    "version": 3
   },
   "file_extension": ".py",
   "mimetype": "text/x-python",
   "name": "python",
   "nbconvert_exporter": "python",
   "pygments_lexer": "ipython3",
   "version": "3.11.7"
  }
 },
 "nbformat": 4,
 "nbformat_minor": 5
}
