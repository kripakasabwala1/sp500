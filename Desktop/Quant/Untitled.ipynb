{
 "cells": [
  {
   "cell_type": "code",
   "execution_count": 7,
   "id": "0f1a5e61-da27-44c4-9ec1-fe79795f1c88",
   "metadata": {},
   "outputs": [
    {
     "name": "stdout",
     "output_type": "stream",
     "text": [
      "Requirement already satisfied: alpaca-py in /opt/anaconda3/lib/python3.11/site-packages (0.33.1)\n",
      "Requirement already satisfied: requests in /opt/anaconda3/lib/python3.11/site-packages (2.31.0)\n",
      "Requirement already satisfied: msgpack<2.0.0,>=1.0.3 in /opt/anaconda3/lib/python3.11/site-packages (from alpaca-py) (1.0.3)\n",
      "Requirement already satisfied: pandas>=1.5.3 in /opt/anaconda3/lib/python3.11/site-packages (from alpaca-py) (2.1.4)\n",
      "Requirement already satisfied: pydantic<3.0.0,>=2.0.3 in /opt/anaconda3/lib/python3.11/site-packages (from alpaca-py) (2.10.2)\n",
      "Requirement already satisfied: sseclient-py<2.0.0,>=1.7.2 in /opt/anaconda3/lib/python3.11/site-packages (from alpaca-py) (1.8.0)\n",
      "Requirement already satisfied: websockets>=10.4 in /opt/anaconda3/lib/python3.11/site-packages (from alpaca-py) (14.1)\n",
      "Requirement already satisfied: charset-normalizer<4,>=2 in /opt/anaconda3/lib/python3.11/site-packages (from requests) (2.0.4)\n",
      "Requirement already satisfied: idna<4,>=2.5 in /opt/anaconda3/lib/python3.11/site-packages (from requests) (3.4)\n",
      "Requirement already satisfied: urllib3<3,>=1.21.1 in /opt/anaconda3/lib/python3.11/site-packages (from requests) (2.0.7)\n",
      "Requirement already satisfied: certifi>=2017.4.17 in /opt/anaconda3/lib/python3.11/site-packages (from requests) (2024.2.2)\n",
      "Requirement already satisfied: numpy<2,>=1.23.2 in /opt/anaconda3/lib/python3.11/site-packages (from pandas>=1.5.3->alpaca-py) (1.26.4)\n",
      "Requirement already satisfied: python-dateutil>=2.8.2 in /opt/anaconda3/lib/python3.11/site-packages (from pandas>=1.5.3->alpaca-py) (2.8.2)\n",
      "Requirement already satisfied: pytz>=2020.1 in /opt/anaconda3/lib/python3.11/site-packages (from pandas>=1.5.3->alpaca-py) (2023.3.post1)\n",
      "Requirement already satisfied: tzdata>=2022.1 in /opt/anaconda3/lib/python3.11/site-packages (from pandas>=1.5.3->alpaca-py) (2023.3)\n",
      "Requirement already satisfied: annotated-types>=0.6.0 in /opt/anaconda3/lib/python3.11/site-packages (from pydantic<3.0.0,>=2.0.3->alpaca-py) (0.7.0)\n",
      "Requirement already satisfied: pydantic-core==2.27.1 in /opt/anaconda3/lib/python3.11/site-packages (from pydantic<3.0.0,>=2.0.3->alpaca-py) (2.27.1)\n",
      "Requirement already satisfied: typing-extensions>=4.12.2 in /opt/anaconda3/lib/python3.11/site-packages (from pydantic<3.0.0,>=2.0.3->alpaca-py) (4.12.2)\n",
      "Requirement already satisfied: six>=1.5 in /opt/anaconda3/lib/python3.11/site-packages (from python-dateutil>=2.8.2->pandas>=1.5.3->alpaca-py) (1.16.0)\n"
     ]
    }
   ],
   "source": [
    "!pip install alpaca-py requests"
   ]
  },
  {
   "cell_type": "code",
   "execution_count": 8,
   "id": "009bf34c-4d1b-40d9-98b5-a1d701b8359a",
   "metadata": {},
   "outputs": [
    {
     "ename": "ModuleNotFoundError",
     "evalue": "No module named 'alpaca_trade_api'",
     "output_type": "error",
     "traceback": [
      "\u001b[0;31m---------------------------------------------------------------------------\u001b[0m",
      "\u001b[0;31mModuleNotFoundError\u001b[0m                       Traceback (most recent call last)",
      "Cell \u001b[0;32mIn[8], line 1\u001b[0m\n\u001b[0;32m----> 1\u001b[0m \u001b[38;5;28;01mimport\u001b[39;00m \u001b[38;5;21;01malpaca_trade_api\u001b[39;00m \u001b[38;5;28;01mas\u001b[39;00m \u001b[38;5;21;01malpaca\u001b[39;00m\n\u001b[1;32m      3\u001b[0m api \u001b[38;5;241m=\u001b[39m alpaca\u001b[38;5;241m.\u001b[39mREST(\u001b[38;5;124m'\u001b[39m\u001b[38;5;124mPKTK9VQYM9BAJNKF2OVC\u001b[39m\u001b[38;5;124m'\u001b[39m, \u001b[38;5;124m'\u001b[39m\u001b[38;5;124mLs5ErbYTP7K3ILivUgtg6PzDZtbzy4iB10ZLXuoW\u001b[39m\u001b[38;5;124m'\u001b[39m, \u001b[38;5;124m'\u001b[39m\u001b[38;5;124mhttps://paper-api.alpaca.markets\u001b[39m\u001b[38;5;124m'\u001b[39m)\n",
      "\u001b[0;31mModuleNotFoundError\u001b[0m: No module named 'alpaca_trade_api'"
     ]
    }
   ],
   "source": [
    "import alpaca_trade_api as alpaca\n",
    "\n",
    "api = alpaca.REST('PKTK9VQYM9BAJNKF2OVC', 'Ls5ErbYTP7K3ILivUgtg6PzDZtbzy4iB10ZLXuoW', 'https://paper-api.alpaca.markets')"
   ]
  },
  {
   "cell_type": "code",
   "execution_count": null,
   "id": "f1b96019-3911-493b-bf86-4aa88ac496b9",
   "metadata": {},
   "outputs": [],
   "source": []
  }
 ],
 "metadata": {
  "kernelspec": {
   "display_name": "Python 3 (ipykernel)",
   "language": "python",
   "name": "python3"
  },
  "language_info": {
   "codemirror_mode": {
    "name": "ipython",
    "version": 3
   },
   "file_extension": ".py",
   "mimetype": "text/x-python",
   "name": "python",
   "nbconvert_exporter": "python",
   "pygments_lexer": "ipython3",
   "version": "3.11.7"
  }
 },
 "nbformat": 4,
 "nbformat_minor": 5
}
